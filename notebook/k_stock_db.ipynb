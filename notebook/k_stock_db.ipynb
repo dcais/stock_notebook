{
 "cells": [
  {
   "cell_type": "code",
   "execution_count": 1,
   "metadata": {},
   "outputs": [
    {
     "name": "stderr",
     "output_type": "stream",
     "text": [
      "/Users/david/anaconda3/lib/python3.6/site-packages/tushare/util/upass.py:28: FutureWarning: \n",
      ".ix is deprecated. Please use\n",
      ".loc for label based indexing or\n",
      ".iloc for positional indexing\n",
      "\n",
      "See the documentation here:\n",
      "http://pandas.pydata.org/pandas-docs/stable/user_guide/indexing.html#ix-indexer-is-deprecated\n",
      "  return str(df.ix[0]['token'])\n"
     ]
    }
   ],
   "source": [
    "import sys\n",
    "import talib as talib\n",
    "import pandas as pd\n",
    "import numpy as np\n",
    "from pyecharts import options as opts\n",
    "sys.path.append(\"..\") \n",
    "from imp import reload\n",
    "from src.stock import Stock\n",
    "from src.chart import Chart\n",
    "\n",
    "stock = Stock();\n",
    "chart = Chart();\n"
   ]
  },
  {
   "cell_type": "code",
   "execution_count": 2,
   "metadata": {},
   "outputs": [
    {
     "name": "stdout",
     "output_type": "stream",
     "text": [
      "['_id', 'low', 'vol', 'high', 'open', 'close', 'amount', 'pct_chg', 'ts_code', 'creator', 'modifier', 'pre_close', 'gmt_create', 'is_deleted', 'trade_date', 'gmt_modified']\n"
     ]
    },
    {
     "data": {
      "text/plain": [
       "<pyecharts.charts.composite_charts.grid.Grid at 0x123b35a20>"
      ]
     },
     "execution_count": 2,
     "metadata": {},
     "output_type": "execute_result"
    }
   ],
   "source": [
    "sma_periods = [8,17,25,99,145,418,453]\n",
    "keyword = '全志科技'\n",
    "start_day='20120101'\n",
    "stock_info=stock.get_stock_info(keyword)\n",
    "hs= stock.get_daily_data(keyword,start_day,'')\n",
    "hs=hs[['trade_date','close','open','high','low','vol']]\n",
    "kdatas = np.array(hs.loc[:,['open','close','low','high']])\n",
    "trade_dates = np.array(hs.trade_date)\n",
    "vols = np.array(hs['vol'])\n",
    "hs['sar'] = talib.SAR(hs.high, hs.low, acceleration=0.1, maximum=2)\n",
    "\n",
    "sma_dic= {}\n",
    "for period in sma_periods:\n",
    "    name = \"SMA\" + str(period)\n",
    "    sma = talib.SMA(np.array(hs.close),period)\n",
    "    hs[name] =sma;\n",
    "    sma_dic[name]={}\n",
    "    sma_dic[name]['name'] = name;\n",
    "    sma_dic[name]['datas'] = sma.round(2).tolist();\n",
    "sar = {}\n",
    "sar['down'] = hs.loc[hs['close'] > hs['sar'],['trade_date','sar']]\n",
    "sar['up'] = (hs[hs['close'] < hs['sar']])[['trade_date','sar']]\n",
    "\n",
    "grid_chart= chart.get_grid(stock_info,trade_dates.tolist(), kdatas.tolist(),sma_dic,vols.tolist(), sar=sar)\n",
    "    \n",
    "hs['macd_dif'],hs['macd_dem'],hs['macd_ocr'] = talib.MACD(hs.close,12,26,9)\n",
    "\n",
    "macd = chart.get_macd_chart(\n",
    "    trade_dates.tolist(),\n",
    "    hs.macd_dif.to_numpy().round(2).tolist(),\n",
    "    hs.macd_dem.to_numpy().round(2).tolist(),\n",
    "    (hs[\"macd_ocr\"]*2).to_numpy().round(2).tolist()\n",
    ")\n",
    "\n",
    "grid_chart.add(\n",
    "    macd,\n",
    "    grid_opts=opts.GridOpts(\n",
    "        pos_left=\"6%\", pos_right=\"8%\", pos_top=\"75%\", height=\"10%\"\n",
    "    ),\n",
    ")\n"
   ]
  },
  {
   "cell_type": "code",
   "execution_count": null,
   "metadata": {},
   "outputs": [],
   "source": [
    "grid_chart.render_notebook()\n"
   ]
  }
 ],
 "metadata": {
  "kernelspec": {
   "display_name": "Python 3",
   "language": "python",
   "name": "python3"
  },
  "language_info": {
   "codemirror_mode": {
    "name": "ipython",
    "version": 3
   },
   "file_extension": ".py",
   "mimetype": "text/x-python",
   "name": "python",
   "nbconvert_exporter": "python",
   "pygments_lexer": "ipython3",
   "version": "3.6.9"
  },
  "latex_envs": {
   "LaTeX_envs_menu_present": true,
   "autoclose": false,
   "autocomplete": true,
   "bibliofile": "biblio.bib",
   "cite_by": "apalike",
   "current_citInitial": 1,
   "eqLabelWithNumbers": true,
   "eqNumInitial": 1,
   "hotkeys": {
    "equation": "Ctrl-E",
    "itemize": "Ctrl-I"
   },
   "labels_anchors": false,
   "latex_user_defs": false,
   "report_style_numbering": false,
   "user_envs_cfg": false
  }
 },
 "nbformat": 4,
 "nbformat_minor": 2
}
